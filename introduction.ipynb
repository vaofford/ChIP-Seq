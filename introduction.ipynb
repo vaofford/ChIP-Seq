{
 "cells": [
  {
   "cell_type": "markdown",
   "metadata": {},
   "source": [
    "# Introduction\n",
    "\n",
    "The goal of this hands-on session is to perform the basic steps of the analysis of ChIP-Seq data, as well as some downstream analysis. \n",
    "\n",
    "At the end of this tutorial, you will be able to:\n",
    "\n",
    "  * generate an unspliced alignment by aligning raw sequencing data to the human genome using **[Bowtie2](http://bowtie-bio.sourceforge.net/bowtie2/index.shtml)**\n",
    "  * manipulate the SAM output in order to visualise the alignment on the **[IGV](http://software.broadinstitute.org/software/igv/)** browser\n",
    "  * based on the aligned reads, find immuno-enriched areas using the peak caller **[MACS2](https://github.com/taoliu/MACS)**\n",
    "  * perform functional annotation and motif analysis on the predicted binding regions\n",
    "  \n",
    "This tutorial was adapted from materials developed by Angela Goncalves, Myrto Kostadima, Steven Wilder and Maria Xenophontos."
   ]
  },
  {
   "cell_type": "markdown",
   "metadata": {},
   "source": [
    "# Data\n",
    "\n",
    "The data we will use for this practical comes from the [**ENCODE (Encyclopedia of DNA Elements) Consortium**](https://www.encodeproject.org/), a big international collaboration aimed at building a comprehensive catalogue of functional elements in the human genome. As part of this project, many human tissues and cell lines were studied using high-throughput sequencing technologies.\n",
    "\n",
    "In this practical, we will work on datasets from, [**GM12878**](https://www.genome.gov/26524238/encode-project-common-cell-types/), a lymphoblastoid cell line produced from the blood of a female donor of European ancestry. Specifically, we will look at binding data for the transcription factor **PAX5**. PAX5 is a known regulator of B-cell differentiation. Aberrant expression of PAX5 is linked to lymphoblastoid leukaemia. If there is time, we will also look at ChIP-seq data for **Polymerase II** and the histone modification **H3K36me3**."
   ]
  },
  {
   "cell_type": "markdown",
   "metadata": {},
   "source": [
    "# Prepare the environment\n",
    "The data used in this practical can be found in the Module7_CHiPSeq directory on your desktop. Throughout this practical we will try to identify potential transcription factor binding sites of PAX5 in human lymphoblastoid cells.\n",
    "\n",
    "Open the Terminal and go to the folder where the data are stored:"
   ]
  },
  {
   "cell_type": "code",
   "execution_count": null,
   "metadata": {
    "collapsed": true
   },
   "outputs": [],
   "source": [
    "cd ~/course_data/Module7_CHiPSeq"
   ]
  },
  {
   "cell_type": "markdown",
   "metadata": {},
   "source": [
    "The .fastq file that we will align is called **`PAX5.fastq`**. This file is based on PAX5 ChIP-Seq data produced by the Myers lab in the context of the ENCODE project. We will align these reads to the human genome."
   ]
  }
 ],
 "metadata": {
  "anaconda-cloud": {},
  "kernelspec": {
   "display_name": "Bash",
   "language": "bash",
   "name": "bash"
  },
  "language_info": {
   "codemirror_mode": "shell",
   "file_extension": ".sh",
   "mimetype": "text/x-sh",
   "name": "bash"
  }
 },
 "nbformat": 4,
 "nbformat_minor": 2
}
